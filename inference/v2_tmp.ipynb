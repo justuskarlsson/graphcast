{
 "cells": [
  {
   "cell_type": "code",
   "execution_count": 2,
   "metadata": {},
   "outputs": [
    {
     "name": "stdout",
     "output_type": "stream",
     "text": [
      "['2022-01-01T00:00:00.000000000' '2022-01-01T06:00:00.000000000']\n",
      "['2022-01-02T00:00:00.000000000' '2022-01-02T06:00:00.000000000'\n",
      " '2022-01-02T12:00:00.000000000' '2022-01-02T18:00:00.000000000']\n"
     ]
    }
   ],
   "source": [
    "import xarray as xr\n",
    "from datetime import datetime\n",
    "abs_path = \"/proj/cvl/users/x_juska/repos/graphcast/data/\"\n",
    "atmo = xr.open_dataset(abs_path + \"22_3d_atmo.nc\")\n",
    "surface = xr.open_dataset(abs_path + \"22_3d_atmo.nc\")\n",
    "\n",
    "atmo1 = atmo.sel(valid_time=slice(datetime(2022, 1, 1), datetime(2022, 1, 1, 6)))\n",
    "atmo2 = atmo.sel(valid_time=slice(datetime(2022, 1, 2), datetime(2022, 1, 2, 18)))\n",
    "print(atmo1.valid_time.values)\n",
    "print(atmo2.valid_time.values)"
   ]
  }
 ],
 "metadata": {
  "kernelspec": {
   "display_name": "Python 3",
   "language": "python",
   "name": "python3"
  },
  "language_info": {
   "codemirror_mode": {
    "name": "ipython",
    "version": 3
   },
   "file_extension": ".py",
   "mimetype": "text/x-python",
   "name": "python",
   "nbconvert_exporter": "python",
   "pygments_lexer": "ipython3",
   "version": "3.10.14"
  }
 },
 "nbformat": 4,
 "nbformat_minor": 2
}
