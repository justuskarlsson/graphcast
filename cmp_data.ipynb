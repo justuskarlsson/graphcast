{
 "cells": [
  {
   "cell_type": "code",
   "execution_count": 1,
   "metadata": {},
   "outputs": [
    {
     "name": "stdout",
     "output_type": "stream",
     "text": [
      "True\n"
     ]
    }
   ],
   "source": [
    "import dataclasses\n",
    "import sys\n",
    "from graphcast import (\n",
    "    data_utils,\n",
    ")\n",
    "from inference.data import load_data\n",
    "import xarray\n",
    "import os\n",
    "predictions_steps = 4\n",
    "nc_path = \"data/22_3d_\"\n",
    "ref_path = \"data/source-era5_date-2022-01-01_res-0.25_levels-13_steps-01.nc\"\n",
    "print(os.path.exists(ref_path))\n",
    "data = load_data(nc_path)"
   ]
  },
  {
   "cell_type": "code",
   "execution_count": null,
   "metadata": {},
   "outputs": [],
   "source": [
    "print(data.lat.values[:10])"
   ]
  },
  {
   "cell_type": "code",
   "execution_count": null,
   "metadata": {},
   "outputs": [],
   "source": [
    "eval_inputs, eval_targets, eval_forcings = (\n",
    "    data_utils.extract_inputs_targets_forcings(\n",
    "        data,\n",
    "        target_lead_times=slice(\"6h\", f\"{predictions_steps*6}h\"),\n",
    "        **dataclasses.asdict(task_config),\n",
    "    )\n",
    ")"
   ]
  }
 ],
 "metadata": {
  "kernelspec": {
   "display_name": "Python 3",
   "language": "python",
   "name": "python3"
  },
  "language_info": {
   "codemirror_mode": {
    "name": "ipython",
    "version": 3
   },
   "file_extension": ".py",
   "mimetype": "text/x-python",
   "name": "python",
   "nbconvert_exporter": "python",
   "pygments_lexer": "ipython3",
   "version": "3.10.14"
  }
 },
 "nbformat": 4,
 "nbformat_minor": 2
}
